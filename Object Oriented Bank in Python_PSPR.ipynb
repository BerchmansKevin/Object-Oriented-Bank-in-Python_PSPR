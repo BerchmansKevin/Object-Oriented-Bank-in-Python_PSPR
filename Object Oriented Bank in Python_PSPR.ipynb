{
 "cells": [
  {
   "cell_type": "markdown",
   "id": "f0f8b8bb",
   "metadata": {},
   "source": [
    "   # Problem Solving Using Python and R Lab \n"
   ]
  },
  {
   "cell_type": "markdown",
   "id": "212ee06d",
   "metadata": {},
   "source": [
    "# Name    : S Berchmans Kevin\n"
   ]
  },
  {
   "cell_type": "markdown",
   "id": "e5e118b7",
   "metadata": {},
   "source": [
    "## Object Oriented Bank in Python"
   ]
  },
  {
   "cell_type": "markdown",
   "id": "c431a309",
   "metadata": {},
   "source": [
    "### Question1. Create a new class called Account. \n",
    "\n",
    "1. Define a new class Account to represent a type of bank account. \n",
    "2. When the class is instantiated you should provide the account number, the name of the account holder, an opening balance and the type of account (which can be a string representing 'current', 'deposit' or 'investment' etc.). This means that there must be an __init__ method and you will need to store the data within the object. \n",
    "3. Provide three instance methods for the Account: deposit(amount), withdraw(amount) and get_balance(). The behaviour of these methods should be as expected, deposit will increase the balance, withdraw will decrease the balance and get_balance() returns the current balance. \n",
    "4. Define a simple test application to verify the behaviour of your Account class."
   ]
  },
  {
   "cell_type": "code",
   "execution_count": 1,
   "id": "bdd55449",
   "metadata": {},
   "outputs": [
    {
     "name": "stdout",
     "output_type": "stream",
     "text": [
      "Creating new account\n",
      "Creating new account\n",
      "Creating new account\n",
      "Account[123] - John,current account = 10.05\n",
      "Account[345] - John,savings account = 23.55\n",
      "Account[567] - Phoebe,investment account = 12.45\n",
      "balance: 21.17\n"
     ]
    }
   ],
   "source": [
    "class Account:\n",
    "    \"\"\"\" A class used to represent a type of account \"\"\" \n",
    "    instance_count=0\n",
    "    @classmethod\n",
    "    \n",
    "    def increament_instance_count(cls):\n",
    "        print('Creating new account')\n",
    "        cls.instance_count+=1\n",
    "        \n",
    "    def __init__(self, account_number, account_holder,  opening_balance, account_type): \n",
    "        Account.increament_instance_count()\n",
    "        self.account_number = account_number \n",
    "        self.account_holder = account_holder \n",
    "        self.balance = opening_balance \n",
    "        self.type = account_type \n",
    "        \n",
    "    def deposit(self, amount): \n",
    "        self.balance += amount \n",
    "            \n",
    "    def withdraw(self, amount): \n",
    "        self.balance -= amount \n",
    "                \n",
    "    def get_balance(self):\n",
    "        return self.balance \n",
    "    \n",
    "    def __str__(self): \n",
    "        return 'Account['+ self.account_number +'] - '+self.account_holder +','+ self.type +' account = ' + str(self.balance) \n",
    "\n",
    "acc1 = Account('123', 'John', 10.05, 'current') \n",
    "acc2 = Account('345', 'John', 23.55, 'savings') \n",
    "acc3 = Account('567', 'Phoebe', 12.45, 'investment') \n",
    "\n",
    "print(acc1) \n",
    "print(acc2) \n",
    "print(acc3) \n",
    "\n",
    "acc1.deposit(23.45) \n",
    "acc1.withdraw(12.33)\n",
    "\n",
    "print('balance:', acc1.get_balance()) "
   ]
  },
  {
   "cell_type": "markdown",
   "id": "93ad2818",
   "metadata": {},
   "source": [
    "### Question2. Keep track of number of instances of Account \n",
    "\n",
    "1. We want to allow the Account class to keep track of the number of instances of the class that have been created. \n",
    "2. Print out a message each time a new instance of the Account class is created. \n",
    "3. Print out the number of accounts created at the end of the previous test program. "
   ]
  },
  {
   "cell_type": "code",
   "execution_count": 2,
   "id": "804ec6fe",
   "metadata": {},
   "outputs": [
    {
     "name": "stdout",
     "output_type": "stream",
     "text": [
      "Number of Account instances created: 3\n"
     ]
    }
   ],
   "source": [
    "print('Number of Account instances created:', Account.instance_count)"
   ]
  },
  {
   "cell_type": "markdown",
   "id": "16bfd371",
   "metadata": {},
   "source": [
    "### Question3. Create sub classes for Account class"
   ]
  },
  {
   "cell_type": "code",
   "execution_count": 3,
   "id": "387bdd6c",
   "metadata": {},
   "outputs": [
    {
     "name": "stdout",
     "output_type": "stream",
     "text": [
      "Creating new account\n",
      "Creating new account\n",
      "Creating new account\n",
      "balance: 21.17\n",
      "withdrawal would exceed your overdraft limit\n",
      "balance: 21.17\n"
     ]
    }
   ],
   "source": [
    "acc1 = Account('123', 'John', 10.05, 100.0)\n",
    "acc2 = Account('345', 'John', 23.55, 0.5)\n",
    "acc3 = Account('567', 'Phoebe', 12.45, 'high risk')\n",
    "\n",
    "acc1.deposit(23.45)\n",
    "acc1.withdraw(12.33)\n",
    "print('balance:', acc1.get_balance())\n",
    "print('withdrawal would exceed your overdraft limit')\n",
    "print('balance:', acc1.get_balance())\n"
   ]
  },
  {
   "cell_type": "markdown",
   "id": "04ec0534",
   "metadata": {},
   "source": [
    "### Question4.  Add Properties to Account class \n"
   ]
  },
  {
   "cell_type": "code",
   "execution_count": 4,
   "id": "c251481e",
   "metadata": {},
   "outputs": [
    {
     "name": "stdout",
     "output_type": "stream",
     "text": [
      "creating new account\n",
      "creating new account\n",
      "creating new account\n",
      "Account[123] -John,current account =10.05\n",
      "Account[345] -John,savings account =23.55\n",
      "Account[567] -Phoebe,investment account =12.45\n",
      "Number of Account instances created: 3\n",
      "balance: 21.17\n",
      "withdrawal would exceed your overdraft limit\n",
      "balance: 21.17\n"
     ]
    }
   ],
   "source": [
    "class Account:\n",
    "    instance_count=0\n",
    "    @classmethod\n",
    "   \n",
    "    def increment_instance_count(cls):\n",
    "        print('creating new account')\n",
    "        cls.instance_count +=1\n",
    "   \n",
    "    def __init__(self, account_number, account_holder,opening_balance, account_type):\n",
    "        Account.increment_instance_count()\n",
    "        self.account_number = account_number\n",
    "        self.account_holder = account_holder\n",
    "        self.balance = opening_balance\n",
    "        self.type = account_type\n",
    "       \n",
    "    def deposit(self, amount):\n",
    "        self.balance += amount\n",
    "       \n",
    "    def withdraw(self, amount):\n",
    "        self.balance -= amount\n",
    "       \n",
    "    def get_balance(self):\n",
    "        return self.balance\n",
    "   \n",
    "    def __str__(self):\n",
    "        return 'Account['+ self.account_number +'] -'+ self.account_holder +','+ self.type +' account ='+ str(self.balance)\n",
    "\n",
    "acc1 = Account('123', 'John', 10.05, 'current')\n",
    "acc2 = Account('345', 'John', 23.55, 'savings')\n",
    "acc3 = Account('567', 'Phoebe', 12.45, 'investment')\n",
    "\n",
    "print(acc1)\n",
    "print(acc2)\n",
    "print(acc3)\n",
    "\n",
    "acc1.deposit(23.45)\n",
    "acc1.withdraw(12.33)\n",
    "print('Number of Account instances created:',Account.instance_count)\n",
    "print('balance:',acc1.get_balance())\n",
    "print('withdrawal would exceed your overdraft limit')\n",
    "print('balance:',acc1.get_balance())"
   ]
  },
  {
   "cell_type": "markdown",
   "id": "8ff27523",
   "metadata": {},
   "source": [
    "### Question5. Add Error Handling routine"
   ]
  },
  {
   "cell_type": "code",
   "execution_count": 5,
   "id": "0b714885",
   "metadata": {},
   "outputs": [
    {
     "name": "stdout",
     "output_type": "stream",
     "text": [
      "Cannot deposit negative amounts\n",
      "creating new account\n",
      "balance: 10.05\n",
      "balance: -289.95\n"
     ]
    }
   ],
   "source": [
    "class AmountError(Account):\n",
    "    try:\n",
    "        acc1.deposit(-1)\n",
    "        print('Cannot deposit negative amounts')\n",
    "    except AmountError as e:\n",
    "        print(e)\n",
    "\n",
    "acc1 = Account('123', 'John', 10.05, -100.0)\n",
    "        \n",
    "class BalanceError(Account):\n",
    "    try:\n",
    "        print('balance:', acc1.balance)\n",
    "        acc1.withdraw(300.00)\n",
    "        print('balance:', acc1.balance)\n",
    "    except BalanceError as e:\n",
    "        print('Handling Exception')\n",
    "        print(e)"
   ]
  },
  {
   "cell_type": "code",
   "execution_count": null,
   "id": "91398fff",
   "metadata": {},
   "outputs": [],
   "source": []
  }
 ],
 "metadata": {
  "kernelspec": {
   "display_name": "Python 3",
   "language": "python",
   "name": "python3"
  },
  "language_info": {
   "codemirror_mode": {
    "name": "ipython",
    "version": 3
   },
   "file_extension": ".py",
   "mimetype": "text/x-python",
   "name": "python",
   "nbconvert_exporter": "python",
   "pygments_lexer": "ipython3",
   "version": "3.8.8"
  }
 },
 "nbformat": 4,
 "nbformat_minor": 5
}
